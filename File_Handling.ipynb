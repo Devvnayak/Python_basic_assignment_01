{
 "cells": [
  {
   "cell_type": "raw",
   "id": "c0366520-e9e1-47ef-a264-b25b54b878d7",
   "metadata": {},
   "source": [
    "Q1. Create a new text file and write a few lines of text into it."
   ]
  },
  {
   "cell_type": "code",
   "execution_count": null,
   "id": "2e126166-064f-45fb-8377-12273a1579aa",
   "metadata": {},
   "outputs": [],
   "source": [
    "Ans. #Define the file name and the lines of text\n",
    "file_name = \"example_text_file.txt\"\n",
    "lines_of_text = [\n",
    " \"This is the first line of text.\",\n",
    " \"Here's the second line of text.\",\n",
    " \"And finally, the third line of text.\"\n",
    "]\n",
    "# Writing to the file\n",
    "with open(file_name, 'w') as file:\n",
    " for line in lines_of_text:\n",
    " file.write(line + \"\\n\")\n",
    "print(f\"File '{file_name}' created and written successfully.\")\n"
   ]
  },
  {
   "cell_type": "raw",
   "id": "31b272f5-276c-4e9b-9250-98b9841ab0c4",
   "metadata": {},
   "source": [
    "Q2. Open and read the contents of the file you just created."
   ]
  },
  {
   "cell_type": "code",
   "execution_count": null,
   "id": "ff1e0ae0-4d70-4764-a382-59bf6dc04674",
   "metadata": {},
   "outputs": [],
   "source": [
    "Ans. # Define the file name\n",
    "file_name = \"example_text_file.txt\"\n",
    "# Open and read the contents of the file\n",
    "with open(file_name, 'r') as file:\n",
    " contents = file.read()\n",
    "# Print the contents of the file\n",
    "print(contents)"
   ]
  },
  {
   "cell_type": "raw",
   "id": "55db690e-67c1-437b-83b1-489847a07d1d",
   "metadata": {},
   "source": [
    "Q3. Add additional text to the existing file without deleting the current content."
   ]
  },
  {
   "cell_type": "code",
   "execution_count": null,
   "id": "a1b9955c-f629-4b16-9c80-ea03103b42fa",
   "metadata": {},
   "outputs": [],
   "source": [
    "Ans. # Define the file name and the additional lines of text\n",
    "file_name = \"example_text_file.txt\"\n",
    "additional_lines_of_text = [\n",
    " \"This is an additional line of text.\",\n",
    " \"Here's another added line.\"\n",
    "]\n",
    "# Open the file in append mode and write the additional lines of text\n",
    "with open(file_name, 'a') as file:\n",
    " for line in additional_lines_of_text:\n",
    " file.write(line + \"\\n\")\n",
    "print(f\"Additional text has been appended to '{file_name}'.\")"
   ]
  },
  {
   "cell_type": "raw",
   "id": "dda2ab64-9ef4-41e2-a731-cb64e42b2dcf",
   "metadata": {},
   "source": [
    "Q4. Read and print each line from the file one by one."
   ]
  },
  {
   "cell_type": "code",
   "execution_count": null,
   "id": "51510d48-3fe0-4ef3-9cac-a4d6e19846fe",
   "metadata": {},
   "outputs": [],
   "source": [
    "Ans= # Define the file name\n",
    "file_name = \"example_text_file.txt\"\n",
    "# Open the file and read each line one by one\n",
    "with open(file_name, 'r') as file:\n",
    " for line in file:\n",
    " print(line.strip()) # strip() removes any trailing newline characters\\"
   ]
  },
  {
   "cell_type": "raw",
   "id": "5df66801-fcfd-4a8c-897d-f9d7c4dc608e",
   "metadata": {},
   "source": [
    "Q5. write the contents of a list to a file; with each item on a new line"
   ]
  },
  {
   "cell_type": "code",
   "execution_count": null,
   "id": "ec6351ce-3cf7-4042-b7e5-1c85451eb3bd",
   "metadata": {},
   "outputs": [],
   "source": [
    "Ans= # Define the file name and the list of items\n",
    "file_name = \"list_to_file.txt\"\n",
    "items = [\"Apple\", \"Banana\", \"Cherry\", \"Date\", \"Elderberry\"]\n",
    "# Open the file in write mode and write each item on a new line\n",
    "with open(file_name, 'w') as file:\n",
    " for item in items:\n",
    " file.write(item + \"\\n\")\n",
    "print(f\"List has been written to '{file_name}' with each item on a new line.\")"
   ]
  },
  {
   "cell_type": "raw",
   "id": "62c544b6-c6da-4da9-9851-097d7fb4e9fc",
   "metadata": {},
   "source": [
    "Q6. Read the file content into a list; where each line is an element of the list."
   ]
  },
  {
   "cell_type": "code",
   "execution_count": null,
   "id": "668559e3-3c80-4fb4-b240-e0ced4ad7780",
   "metadata": {},
   "outputs": [],
   "source": [
    "Ans= # Open the file in read mode\n",
    "with open('example_text_file.txt', 'r') as file:\n",
    " # Read the file content into a list, with each line as a list element\n",
    " lines = file.readlines()\n",
    "# Remove any trailing newline characters from each line\n",
    "lines = [line.strip() for line in lines]\n",
    "# Print the list to check the result\n",
    "print(lines)"
   ]
  },
  {
   "cell_type": "raw",
   "id": "d47bd0fa-a679-4ba8-b47a-6191c9c62ece",
   "metadata": {},
   "source": [
    "Q7. Count the total number of words in the file"
   ]
  },
  {
   "cell_type": "code",
   "execution_count": null,
   "id": "046a0c56-a6be-41d3-87c3-1a75c717974e",
   "metadata": {},
   "outputs": [],
   "source": [
    "Ans= # Open the file in read mode\n",
    "with open('example_text_file.txt', 'r') as file:\n",
    " # Read the file content into a list of lines\n",
    " lines = file.readlines()\n",
    "# Initialize a word count variable\n",
    "word_count = 0\n",
    "# Loop through each line\n",
    "for line in lines:\n",
    " # Split the line into words and add the number of words to the total count\n",
    " word_count += len(line.split())\n",
    "# Print the total number of words\n",
    "print(f'Total number of words: {word_count}')"
   ]
  },
  {
   "cell_type": "raw",
   "id": "7bc71c1c-ae3d-4b5d-9ec1-5531e2ce675e",
   "metadata": {},
   "source": [
    "Q8. Copy the contents of one file to another file"
   ]
  },
  {
   "cell_type": "code",
   "execution_count": null,
   "id": "eac81c66-ac63-483f-9618-504d44fcdaaf",
   "metadata": {},
   "outputs": [],
   "source": [
    "Ans= # Define the source and destination file paths\n",
    "source_file = 'source.txt'\n",
    "destination_file = 'destination.txt'\n",
    "# Open the source file in read mode and the destination file in write mode\n",
    "with open(source_file, 'r') as src, open(destination_file, 'w') as dest:\n",
    " # Read the contents of the source file\n",
    " content = src.read()\n",
    " # Write the contents to the destination file\n",
    " dest.write(content)\n",
    "print(f'Contents of {source_file} have been copied to {destination_file}.')"
   ]
  },
  {
   "cell_type": "raw",
   "id": "9ddc2868-e2c5-4055-893e-5816fa20b423",
   "metadata": {},
   "source": [
    "9. Check if a file exists before attempting to read it"
   ]
  },
  {
   "cell_type": "code",
   "execution_count": null,
   "id": "42c70001-8d6f-4239-ab1c-9cd3ba85432e",
   "metadata": {},
   "outputs": [],
   "source": [
    "Ans= import os\n",
    "# Define the file path\n",
    "file_path = 'filename.txt'\n",
    "# Check if the file exists\n",
    "if os.path.exists(file_path):\n",
    " # Open and read the file if it exists\n",
    " with open(file_path, 'r') as file:\n",
    " content = file.read()\n",
    " print('File content:')\n",
    " print(content)\n",
    "else:\n",
    " print(f'The file {file_path} does not exist.')"
   ]
  },
  {
   "cell_type": "raw",
   "id": "8dff787e-de6d-4d1a-ac0b-2912f9dbbf6d",
   "metadata": {},
   "source": [
    "10. Delete a file using Python."
   ]
  },
  {
   "cell_type": "code",
   "execution_count": null,
   "id": "f98ca0ce-c6e4-4758-8665-c3959b6c330d",
   "metadata": {},
   "outputs": [],
   "source": [
    "Ans= import os\n",
    "# Define the file path\n",
    "file_path = 'source.txt'\n",
    "# Check if the file exists before attempting to delete it\n",
    "if os.path.exists(file_path):\n",
    " # Delete the file\n",
    " os.remove(file_path)\n",
    " print(f'The file {file_path} has been deleted.')\n",
    "else:\n",
    " print(f'The file {file_path} does not exist.')"
   ]
  }
 ],
 "metadata": {
  "kernelspec": {
   "display_name": "Python 3 (ipykernel)",
   "language": "python",
   "name": "python3"
  },
  "language_info": {
   "codemirror_mode": {
    "name": "ipython",
    "version": 3
   },
   "file_extension": ".py",
   "mimetype": "text/x-python",
   "name": "python",
   "nbconvert_exporter": "python",
   "pygments_lexer": "ipython3",
   "version": "3.10.8"
  }
 },
 "nbformat": 4,
 "nbformat_minor": 5
}
