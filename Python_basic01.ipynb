{
 "cells": [
  {
   "cell_type": "markdown",
   "id": "8f5fc497-d9f8-46d2-9aa4-9a7f9ed53549",
   "metadata": {},
   "source": [
    "Q1. Explain the key features of python that make it a popular choice for programming."
   ]
  },
  {
   "cell_type": "raw",
   "id": "0a3eb5de-fdf7-4a3c-8a8b-9e8001c87f99",
   "metadata": {},
   "source": [
    "Ans1. Python is a very popular programming language because of a few important features:\n",
    "\n",
    "1) Easy to Read and Utilize:\n",
    "    Its clear syntax makes Python easy to learn and write.\n",
    "2) Versatility:\n",
    "    Suitable for web development, Devops, data science, AI, automation, etc.\n",
    "3) Strong Community:\n",
    "    Large, active community provides ample resources and support.\n",
    "4) Interpreted Nature:\n",
    "    Executes code line by line, aiding debugging and immediate feedback.\n",
    "5) Cross-Platform:\n",
    "    Runs on Windows, macOS, and Linux.\n",
    "6) Integration:\n",
    "    Easily integrates with other languages and technologies.\n",
    "7) Dynamic Typing and Memory Management:\n",
    "    Flexible typing and automatic memory management simplify coding.\n",
    "8) High-Level Data Structures:\n",
    "    Includes powerful structures like lists and dictionaries."
   ]
  },
  {
   "cell_type": "markdown",
   "id": "69ae851e-45a7-47f9-8f8f-04ee0b4b0b92",
   "metadata": {},
   "source": [
    "Q2. Describe the role of predefined keywords in python and provide examples of how they are used in a program."
   ]
  },
  {
   "cell_type": "markdown",
   "id": "b1fa90c4-ab3c-420a-ac1f-3145500b0552",
   "metadata": {},
   "source": [
    "Ans2.Predefined keywords are reserved terms in Python that are essential to the syntax and organization of the language. These words have particular meanings."
   ]
  },
  {
   "cell_type": "code",
   "execution_count": 6,
   "id": "b53cfad0-c291-4646-bb6e-1eb753492507",
   "metadata": {},
   "outputs": [
    {
     "name": "stdout",
     "output_type": "stream",
     "text": [
      "\n",
      "Here is a list of the Python keywords.  Enter any keyword to get more help.\n",
      "\n",
      "False               class               from                or\n",
      "None                continue            global              pass\n",
      "True                def                 if                  raise\n",
      "and                 del                 import              return\n",
      "as                  elif                in                  try\n",
      "assert              else                is                  while\n",
      "async               except              lambda              with\n",
      "await               finally             nonlocal            yield\n",
      "break               for                 not                 \n",
      "\n"
     ]
    }
   ],
   "source": [
    "help('keywords')"
   ]
  },
  {
   "cell_type": "code",
   "execution_count": 9,
   "id": "c1630cd4-4d2d-45e7-bf5b-d9f228569661",
   "metadata": {},
   "outputs": [
    {
     "name": "stdout",
     "output_type": "stream",
     "text": [
      "You are senior citizen\n"
     ]
    }
   ],
   "source": [
    "#Control Flow:\n",
    "age = 80\n",
    "if age < 18:\n",
    "    print(\"You are minority\")\n",
    "elif 18<age<=65:\n",
    "    print(\"Yo are adult\")\n",
    "else:\n",
    "    print(\"You are senior citizen\")"
   ]
  },
  {
   "cell_type": "code",
   "execution_count": 21,
   "id": "11e781df-f71e-42bf-bf46-5575a528c11e",
   "metadata": {},
   "outputs": [
    {
     "name": "stdout",
     "output_type": "stream",
     "text": [
      "Area of the rectangle: 15\n"
     ]
    }
   ],
   "source": [
    "#Function and Class Definitions:\n",
    "#Function to calculate the area of a rectangle\n",
    "def area_of_rectangle(width, height):\n",
    "    return width * height\n",
    "\n",
    "#Class definition for a simple Rectangle\n",
    "class Rectangle:\n",
    "    def __init__(self, width, height):\n",
    "        self.width = width\n",
    "        self.height = height\n",
    "\n",
    "    def area(self):\n",
    "        return area_of_rectangle(self.width, self.height)\n",
    "\n",
    "#Using the class and function\n",
    "my_rectangle = Rectangle(5, 3)\n",
    "print(\"Area of the rectangle:\", my_rectangle.area())"
   ]
  },
  {
   "cell_type": "code",
   "execution_count": 15,
   "id": "638b478a-4720-4b72-b4ce-6d6f72b9d362",
   "metadata": {},
   "outputs": [
    {
     "name": "stdout",
     "output_type": "stream",
     "text": [
      "Error: division by zero\n",
      "This will always be executed\n"
     ]
    }
   ],
   "source": [
    "#Error Handling:\n",
    "try:\n",
    "    result = 10 / 0\n",
    "except ZeroDivisionError as e:\n",
    "    print(f\"Error: {e}\")\n",
    "finally:\n",
    "    print(\"This will always be executed\")"
   ]
  },
  {
   "cell_type": "code",
   "execution_count": 17,
   "id": "cd4dfd21-a375-409a-95ac-330c3f9ed770",
   "metadata": {},
   "outputs": [
    {
     "name": "stdout",
     "output_type": "stream",
     "text": [
      "a is True and b is False\n",
      "3 is in the list\n"
     ]
    }
   ],
   "source": [
    "#Logical and Comparison Operations:\n",
    "a = True\n",
    "b = False\n",
    "if a and not b:\n",
    "    print(\"a is True and b is False\")\n",
    "\n",
    "if 3 in [1, 2, 3]:\n",
    "    print(\"3 is in the list\")"
   ]
  },
  {
   "cell_type": "code",
   "execution_count": 20,
   "id": "034ac912-e6f7-4648-bfa7-b6135682d0f8",
   "metadata": {},
   "outputs": [
    {
     "name": "stdout",
     "output_type": "stream",
     "text": [
      "Random number between 1 and 10: 1\n",
      "Random item from the list: apple\n"
     ]
    }
   ],
   "source": [
    "#Module Importing:\n",
    "import random\n",
    "\n",
    "# Generate a random number between 1 and 10\n",
    "random_number = random.randint(1, 10)\n",
    "print(\"Random number between 1 and 10:\", random_number)\n",
    "\n",
    "# Choose a random item from a list\n",
    "items = ['apple', 'banana', 'cherry']\n",
    "random_item = random.choice(items)\n",
    "print(\"Random item from the list:\", random_item)"
   ]
  },
  {
   "cell_type": "markdown",
   "id": "43554097-55c0-4b17-adc0-c1bd2f796443",
   "metadata": {},
   "source": [
    "Q3. Compare and control mutable and immutable objects in python with examples."
   ]
  },
  {
   "cell_type": "markdown",
   "id": "083e50df-a04f-401a-8158-fccb7e7d2f3e",
   "metadata": {},
   "source": [
    "Ans3. Mutable objects: Mutable objects can be changed after they are created. This means you can directly alter their content without creating a new object. Examples are:Lists, Dictionaries, Sets"
   ]
  },
  {
   "cell_type": "code",
   "execution_count": 25,
   "id": "f3cb9f40-b40a-42fb-99d5-654107523857",
   "metadata": {},
   "outputs": [
    {
     "name": "stdout",
     "output_type": "stream",
     "text": [
      "Original list: [1, 2, 3]\n",
      "Updated list: [1, 2, 3, 4]\n",
      "Original set: {1, 2, 3}\n",
      "Updated set: {1, 2, 3, 4}\n"
     ]
    }
   ],
   "source": [
    "# List (Mutable)\n",
    "my_list = [1, 2, 3]\n",
    "print(\"Original list:\", my_list)\n",
    "\n",
    "# Adding an item to the list\n",
    "my_list.append(4)\n",
    "print(\"Updated list:\", my_list)\n",
    "\n",
    "# Set (Mutable)\n",
    "my_set = {1, 2, 3}\n",
    "print(\"Original set:\", my_set)\n",
    "\n",
    "# Adding an item to the set\n",
    "my_set.add(4)\n",
    "print(\"Updated set:\", my_set)\n"
   ]
  },
  {
   "cell_type": "markdown",
   "id": "74f3f7f2-196a-4ab2-bbc9-3e5799b4e6aa",
   "metadata": {},
   "source": [
    "Immutable objects: Immutable objects cannot be changed once created. Any modification attempts result in the creation of a new object. Examples are:\n",
    "Strings, Tuples, Integers, Floats"
   ]
  },
  {
   "cell_type": "code",
   "execution_count": 24,
   "id": "c5d1aca1-e0ac-4276-80d5-8a02d497a7ea",
   "metadata": {},
   "outputs": [
    {
     "name": "stdout",
     "output_type": "stream",
     "text": [
      "Original string: Hello\n",
      "Modified string: HELLO\n",
      "Original number: 10\n",
      "Modified number: 15\n"
     ]
    }
   ],
   "source": [
    "# String (Immutable)\n",
    "my_string = \"Hello\"\n",
    "print(\"Original string:\", my_string)\n",
    "\n",
    "# Modifying the string (creates a new string)\n",
    "modified_string = my_string.upper()\n",
    "print(\"Modified string:\", modified_string)\n",
    "\n",
    "# Integer (Immutable)\n",
    "my_number = 10\n",
    "print(\"Original number:\", my_number)\n",
    "\n",
    "# Modifying the integer (creates a new integer)\n",
    "new_number = my_number + 5\n",
    "print(\"Modified number:\", new_number)\n"
   ]
  },
  {
   "cell_type": "markdown",
   "id": "b57aba58-eec6-45c4-9453-c16239a08dc0",
   "metadata": {},
   "source": [
    "Q4. Discuss the different types of operators in python and provide examples of how they are used."
   ]
  },
  {
   "cell_type": "markdown",
   "id": "1b712b37-2bca-4ee6-b42e-0eee79585a39",
   "metadata": {},
   "source": [
    "Ans4. Operators are special symbols used to perform operations on variables and values. They are categorized into several types based on their functionality."
   ]
  },
  {
   "cell_type": "code",
   "execution_count": 27,
   "id": "73b18cf8-b286-4eb2-b036-8f152649c8fb",
   "metadata": {},
   "outputs": [
    {
     "name": "stdout",
     "output_type": "stream",
     "text": [
      "Addition: 45\n",
      "Subtraction: 35\n",
      "Multiplication: 200\n",
      "Division: 8.0\n",
      "Modulus: 0\n",
      "Exponentiation: 102400000\n"
     ]
    }
   ],
   "source": [
    "#Arithmetic Operators\n",
    "a = 40\n",
    "b = 5\n",
    "\n",
    "print(\"Addition:\", a + b)        #Adds two values\n",
    "print(\"Subtraction:\", a - b)     #Subtracts one value from another\n",
    "print(\"Multiplication:\", a * b)  #Multiplies two values\n",
    "print(\"Division:\", a / b)        #Divides one value by another (returns float)\n",
    "print(\"Modulus:\", a % b)         #Returns the remainder of a division\n",
    "print(\"Exponentiation:\", a ** b) #Raises one value to the power of another"
   ]
  },
  {
   "cell_type": "code",
   "execution_count": 28,
   "id": "d0af569c-00a0-4125-afc7-88fd010d3762",
   "metadata": {},
   "outputs": [
    {
     "name": "stdout",
     "output_type": "stream",
     "text": [
      "Equal to: False\n",
      "Not equal to: True\n",
      "Greater than: True\n",
      "Less than: False\n",
      "Greater than or equal to: True\n",
      "Less than or equal to: False\n"
     ]
    }
   ],
   "source": [
    "#Comparison Operators\n",
    "a = 10\n",
    "b = 5\n",
    "\n",
    "print(\"Equal to:\", a == b)        #Checks if two values are equal\n",
    "print(\"Not equal to:\", a != b)    #Checks if two values are not equal\n",
    "print(\"Greater than:\", a > b)     #Checks if one value is greater than another\n",
    "print(\"Less than:\", a < b)        #Checks if one value is less than another\n",
    "print(\"Greater than or equal to:\", a >= b) #Checks if one value is greater than or equal to another\n",
    "print(\"Less than or equal to:\", a <= b)    #Checks if one value is less than or equal to another"
   ]
  },
  {
   "cell_type": "code",
   "execution_count": 29,
   "id": "946fffc3-0682-45b9-915c-54b288ec62f7",
   "metadata": {},
   "outputs": [
    {
     "name": "stdout",
     "output_type": "stream",
     "text": [
      "And: False\n",
      "Or: True\n",
      "Not x: False\n"
     ]
    }
   ],
   "source": [
    "#Logical Operator\n",
    "x = True\n",
    "y = False\n",
    "\n",
    "print(\"And:\", x and y)  #Returns True if both conditions are True\n",
    "print(\"Or:\", x or y)   #Returns True if at least one condition is True\n",
    "print(\"Not x:\", not x) #Returns True if the condition is False\n"
   ]
  },
  {
   "cell_type": "code",
   "execution_count": 30,
   "id": "a9945e43-48eb-42f3-beba-029c5e7ff8c3",
   "metadata": {},
   "outputs": [
    {
     "name": "stdout",
     "output_type": "stream",
     "text": [
      "Is 3 in the list? True\n",
      "Is 5 not in the list? True\n"
     ]
    }
   ],
   "source": [
    "#Membership Operators\n",
    "list1 = [1, 2, 3, 4]\n",
    "\n",
    "print(\"Is 3 in the list?\", 3 in list1)        #Checks if a value exists in a sequence\n",
    "print(\"Is 5 not in the list?\", 5 not in list1) #Checks if a value does not exist in a sequence\n"
   ]
  },
  {
   "cell_type": "markdown",
   "id": "31ca9aa2-458b-4219-8f2d-b41807bd572f",
   "metadata": {},
   "source": [
    "Q5. Explain the concept of type casting in python with examples."
   ]
  },
  {
   "cell_type": "markdown",
   "id": "efe78aa6-c47b-4f74-b67f-7029da0674f0",
   "metadata": {},
   "source": [
    "Ans5. Type casting in Python is the process of converting a value from one data type to another. This is useful for ensuring data compatibility or meeting specific function requirements.\n",
    "Common Data Types and Casting Functions: \n",
    "Integer (int), Float (float) & String (str)"
   ]
  },
  {
   "cell_type": "code",
   "execution_count": 32,
   "id": "4c646f86-0b9d-4952-9ac9-c25fcf6cd435",
   "metadata": {},
   "outputs": [
    {
     "name": "stdout",
     "output_type": "stream",
     "text": [
      "Converted Integer: 789\n",
      "Type: <class 'int'>\n"
     ]
    }
   ],
   "source": [
    "# String to Integer\n",
    "string_number = \"789\"\n",
    "converted_integer = int(string_number)\n",
    "print(\"Converted Integer:\", converted_integer) \n",
    "print(\"Type:\", type(converted_integer))         "
   ]
  },
  {
   "cell_type": "code",
   "execution_count": 33,
   "id": "e39a331b-7c2b-4704-ae4e-55cdf37b4aec",
   "metadata": {},
   "outputs": [
    {
     "name": "stdout",
     "output_type": "stream",
     "text": [
      "Converted Float: 456.78\n",
      "Type: <class 'float'>\n"
     ]
    }
   ],
   "source": [
    "# String to Float\n",
    "string_number = \"456.78\"\n",
    "converted_float = float(string_number)\n",
    "print(\"Converted Float:\", converted_float) \n",
    "print(\"Type:\", type(converted_float))       "
   ]
  },
  {
   "cell_type": "code",
   "execution_count": 34,
   "id": "357539fe-a9c8-496d-b833-faef032da54b",
   "metadata": {},
   "outputs": [
    {
     "name": "stdout",
     "output_type": "stream",
     "text": [
      "Converted Float: 21.0\n",
      "Type: <class 'float'>\n"
     ]
    }
   ],
   "source": [
    "# Integer to Float\n",
    "integer_value = 21\n",
    "converted_float = float(integer_value)\n",
    "print(\"Converted Float:\", converted_float) \n",
    "print(\"Type:\", type(converted_float))       "
   ]
  },
  {
   "cell_type": "code",
   "execution_count": 35,
   "id": "4ba9b03f-1d6a-4a8f-ac94-11943330e557",
   "metadata": {},
   "outputs": [
    {
     "name": "stdout",
     "output_type": "stream",
     "text": [
      "Converted Integer: 67\n",
      "Type: <class 'int'>\n"
     ]
    }
   ],
   "source": [
    "# Float to Integer\n",
    "float_value = 67.89\n",
    "converted_integer = int(float_value)\n",
    "print(\"Converted Integer:\", converted_integer) \n",
    "print(\"Type:\", type(converted_integer))        "
   ]
  },
  {
   "cell_type": "code",
   "execution_count": 36,
   "id": "27f7bd4f-69b7-4970-851e-d22e30138564",
   "metadata": {},
   "outputs": [
    {
     "name": "stdout",
     "output_type": "stream",
     "text": [
      "Float to String: 123.45\n",
      "Type: <class 'str'>\n",
      "String to Float: 123.45\n",
      "Type: <class 'float'>\n"
     ]
    }
   ],
   "source": [
    "# Float to String\n",
    "float_value = 123.45\n",
    "string_representation = str(float_value)\n",
    "print(\"Float to String:\", string_representation)  \n",
    "print(\"Type:\", type(string_representation))      \n",
    "\n",
    "# String to Float\n",
    "string_value = \"123.45\"\n",
    "converted_float = float(string_value)\n",
    "print(\"String to Float:\", converted_float) \n",
    "print(\"Type:\", type(converted_float))       "
   ]
  },
  {
   "cell_type": "markdown",
   "id": "0129b9af-742d-46a6-ac3e-245a66a71e7b",
   "metadata": {},
   "source": [
    "Why Type Casting is Important:\n",
    "Compatibility: Guarantees that various data types can work together in operations or functions.\n",
    "Data Conversion: Transforms data from inputs or files into the necessary type for processing.\n",
    "Function Needs: Some functions require specific data types, so casting ensures that the correct type is provided."
   ]
  },
  {
   "cell_type": "markdown",
   "id": "4cf34bbe-cb14-4ae7-a2ff-773d0ac9d717",
   "metadata": {},
   "source": [
    "Q6. How do conditional statements work in python? Illustrate with examples."
   ]
  },
  {
   "cell_type": "markdown",
   "id": "34752ad5-4021-498b-9090-bf0e5ec06fa1",
   "metadata": {},
   "source": [
    "Ans6. Conditional statements in Python allow you to execute different blocks of code based on certain conditions. They help control the flow of a program by making decisions.\n",
    "Types of Conditional Statements\n",
    "#if Statement\n",
    "#if-else Statement\n",
    "#if-elif-else Statement"
   ]
  },
  {
   "cell_type": "code",
   "execution_count": 37,
   "id": "063ef1d9-67be-4902-88e7-3a837b0eb965",
   "metadata": {},
   "outputs": [
    {
     "name": "stdout",
     "output_type": "stream",
     "text": [
      "You are an adult.\n"
     ]
    }
   ],
   "source": [
    "#if statement\n",
    "age = 18\n",
    "\n",
    "if age >= 18:\n",
    "    print(\"You are an adult.\")"
   ]
  },
  {
   "cell_type": "code",
   "execution_count": 38,
   "id": "aa5cc23e-9ba6-46d4-ad94-a8e6cbbc4505",
   "metadata": {},
   "outputs": [
    {
     "name": "stdout",
     "output_type": "stream",
     "text": [
      "It's hot outside.\n"
     ]
    }
   ],
   "source": [
    "#if-else\n",
    "temperature = 30\n",
    "\n",
    "if temperature > 25:\n",
    "    print(\"It's hot outside.\")\n",
    "else:\n",
    "    print(\"It's cool outside.\")"
   ]
  },
  {
   "cell_type": "code",
   "execution_count": 39,
   "id": "b06d13e9-47a1-4de2-835e-28003ba71b63",
   "metadata": {},
   "outputs": [
    {
     "name": "stdout",
     "output_type": "stream",
     "text": [
      "Grade: B\n"
     ]
    }
   ],
   "source": [
    "#if-elif-else\n",
    "score = 85\n",
    "\n",
    "if score >= 90:\n",
    "    print(\"Grade: A\")\n",
    "elif score >= 80:\n",
    "    print(\"Grade: B\")\n",
    "elif score >= 70:\n",
    "    print(\"Grade: C\")\n",
    "else:\n",
    "    print(\"Grade: D\")"
   ]
  },
  {
   "cell_type": "markdown",
   "id": "268fe0b9-0fa0-4fdc-a24c-338007e53679",
   "metadata": {},
   "source": [
    "if: Checks the condition; if true, executes the associated block of code.\n",
    "else: Executes the block of code if the if condition is false.\n",
    "elif: Checks additional conditions if the previous if (or elif) conditions are false.\n",
    "Conditional statements are fundamental for controlling the logic and flow of your program, allowing it to make decisions and respond dynamically to different inputs or conditions."
   ]
  },
  {
   "cell_type": "markdown",
   "id": "6b5447cf-e398-4b1f-9ea7-15cd0a3b5053",
   "metadata": {},
   "source": [
    "Q7. Describe the different types of loops in python and their use cases with example."
   ]
  },
  {
   "cell_type": "markdown",
   "id": "d5856685-52bf-4362-83c4-21c07552a109",
   "metadata": {},
   "source": [
    "Ans7. In Python, loops are used to execute a block of code repeatedly based on certain conditions. The main types of loops are for loops and while loops.\n",
    "let's discuss each type of cases."
   ]
  },
  {
   "cell_type": "code",
   "execution_count": 44,
   "id": "322a697a-6d92-4e2d-b1d2-858b37a8c1d3",
   "metadata": {},
   "outputs": [
    {
     "name": "stdout",
     "output_type": "stream",
     "text": [
      "apple\n",
      "banana\n",
      "cherry\n"
     ]
    }
   ],
   "source": [
    "\"\"\"1. for Loop\n",
    "The for loop is used to iterate over a sequence (like a list, tuple, or string) or other iterable objects. It executes a block of code for each item in the sequence.\n",
    "Use Cases:\n",
    "Iterating over elements in a collection.\n",
    "Generating a sequence of numbers.\n",
    "\"\"\"\n",
    "# For loop with a list\n",
    "fruits = ['apple', 'banana', 'cherry']\n",
    "\n",
    "for fruit in fruits:\n",
    "    print(fruit)"
   ]
  },
  {
   "cell_type": "code",
   "execution_count": 45,
   "id": "9d89ed0e-c06a-4c82-9a79-287d4340353c",
   "metadata": {},
   "outputs": [
    {
     "name": "stdout",
     "output_type": "stream",
     "text": [
      "0\n",
      "1\n",
      "2\n",
      "3\n",
      "4\n"
     ]
    }
   ],
   "source": [
    "# For loop with range\n",
    "for i in range(5):\n",
    "    print(i)"
   ]
  },
  {
   "cell_type": "code",
   "execution_count": 46,
   "id": "419d1542-6dde-4461-8eb4-2f5e1e8383ea",
   "metadata": {},
   "outputs": [
    {
     "name": "stdout",
     "output_type": "stream",
     "text": [
      "0\n",
      "1\n",
      "2\n",
      "3\n",
      "4\n"
     ]
    }
   ],
   "source": [
    "\"\"\"2. while Loop\n",
    "The while loop continues to execute a block of code as long as a specified condition is true.\n",
    "Use Cases:\n",
    "Repeating an action until a certain condition is met.\n",
    "Continuously prompting for user input until valid data is provided.\n",
    "\"\"\"\n",
    "# While loop with a condition\n",
    "count = 0\n",
    "\n",
    "while count < 5:\n",
    "    print(count)\n",
    "    count += 1"
   ]
  },
  {
   "cell_type": "code",
   "execution_count": 48,
   "id": "2c1bef8f-e40b-4fb5-b63e-81201a58b381",
   "metadata": {},
   "outputs": [
    {
     "name": "stdout",
     "output_type": "stream",
     "text": [
      "0\n",
      "1\n",
      "2\n",
      "3\n",
      "4\n"
     ]
    }
   ],
   "source": [
    "\"\"\"3. Loop Control Statements\n",
    "Both for and while loops can be controlled using statements like break and continue.\n",
    "\n",
    "break: Exits the loop immediately, regardless of the condition.\n",
    "continue: Skips the rest of the code inside the loop for the current iteration and proceeds with the next iteration.\n",
    "\"\"\"\n",
    "# Break statement\n",
    "for i in range(10):\n",
    "    if i == 5:\n",
    "        break\n",
    "    print(i)\n"
   ]
  }
 ],
 "metadata": {
  "kernelspec": {
   "display_name": "Python 3 (ipykernel)",
   "language": "python",
   "name": "python3"
  },
  "language_info": {
   "codemirror_mode": {
    "name": "ipython",
    "version": 3
   },
   "file_extension": ".py",
   "mimetype": "text/x-python",
   "name": "python",
   "nbconvert_exporter": "python",
   "pygments_lexer": "ipython3",
   "version": "3.10.8"
  }
 },
 "nbformat": 4,
 "nbformat_minor": 5
}
